{
 "cells": [
  {
   "cell_type": "code",
   "execution_count": 1,
   "metadata": {},
   "outputs": [
    {
     "name": "stderr",
     "output_type": "stream",
     "text": [
      "[nltk_data] Downloading package stopwords to\n",
      "[nltk_data]     C:\\Users\\fjsti\\AppData\\Roaming\\nltk_data...\n",
      "[nltk_data]   Package stopwords is already up-to-date!\n"
     ]
    }
   ],
   "source": [
    "import pandas as pd\n",
    "import gensim\n",
    "import os\n",
    "from gensim.utils import simple_preprocess\n",
    "import gensim.corpora as corpora\n",
    "from pprint import pprint\n",
    "import pyLDAvis.gensim_models as gensimvis\n",
    "import pickle\n",
    "import pyLDAvis\n",
    "import re\n",
    "import nltk\n",
    "from wordcloud import WordCloud\n",
    "\n",
    "nltk.download('stopwords')\n",
    "from nltk.corpus import stopwords"
   ]
  },
  {
   "cell_type": "code",
   "execution_count": 2,
   "metadata": {},
   "outputs": [],
   "source": [
    "df = pd.read_csv('pdfConvertFULL.csv', sep = '|')"
   ]
  },
  {
   "cell_type": "code",
   "execution_count": 3,
   "metadata": {},
   "outputs": [
    {
     "data": {
      "text/html": [
       "<div>\n",
       "<style scoped>\n",
       "    .dataframe tbody tr th:only-of-type {\n",
       "        vertical-align: middle;\n",
       "    }\n",
       "\n",
       "    .dataframe tbody tr th {\n",
       "        vertical-align: top;\n",
       "    }\n",
       "\n",
       "    .dataframe thead th {\n",
       "        text-align: right;\n",
       "    }\n",
       "</style>\n",
       "<table border=\"1\" class=\"dataframe\">\n",
       "  <thead>\n",
       "    <tr style=\"text-align: right;\">\n",
       "      <th></th>\n",
       "      <th>Unnamed: 0</th>\n",
       "      <th>0</th>\n",
       "      <th>1</th>\n",
       "    </tr>\n",
       "  </thead>\n",
       "  <tbody>\n",
       "    <tr>\n",
       "      <th>0</th>\n",
       "      <td>0</td>\n",
       "      <td>IS 100 A, ONL SP21 Exploring the iSchool (Torr...</td>\n",
       "      <td>exploring the ischool with a humancentered len...</td>\n",
       "    </tr>\n",
       "    <tr>\n",
       "      <th>1</th>\n",
       "      <td>1</td>\n",
       "      <td>IS 567 BC FA22 Text Mining (Blake, C).pdf</td>\n",
       "      <td>syllabus for is567 ac text mining fall 2022...</td>\n",
       "    </tr>\n",
       "    <tr>\n",
       "      <th>2</th>\n",
       "      <td>2</td>\n",
       "      <td>IS 507 AC, BC FA22 Data, Stat, Info (Besser, S...</td>\n",
       "      <td>course  instructor information course and inst...</td>\n",
       "    </tr>\n",
       "    <tr>\n",
       "      <th>3</th>\n",
       "      <td>3</td>\n",
       "      <td>IS 413 BO SP21 Teen Materials (Quealy, K).pdf</td>\n",
       "      <td>1 is 413ab sp1 teen materials spring 2021 mond...</td>\n",
       "    </tr>\n",
       "    <tr>\n",
       "      <th>4</th>\n",
       "      <td>4</td>\n",
       "      <td>IS 584 PVO FA20 Privacy in the Internet Age (B...</td>\n",
       "      <td>privacy in the internet age lis 584 pvo fall 2...</td>\n",
       "    </tr>\n",
       "  </tbody>\n",
       "</table>\n",
       "</div>"
      ],
      "text/plain": [
       "   Unnamed: 0                                                  0  \\\n",
       "0           0  IS 100 A, ONL SP21 Exploring the iSchool (Torr...   \n",
       "1           1          IS 567 BC FA22 Text Mining (Blake, C).pdf   \n",
       "2           2  IS 507 AC, BC FA22 Data, Stat, Info (Besser, S...   \n",
       "3           3      IS 413 BO SP21 Teen Materials (Quealy, K).pdf   \n",
       "4           4  IS 584 PVO FA20 Privacy in the Internet Age (B...   \n",
       "\n",
       "                                                   1  \n",
       "0  exploring the ischool with a humancentered len...  \n",
       "1     syllabus for is567 ac text mining fall 2022...  \n",
       "2  course  instructor information course and inst...  \n",
       "3  1 is 413ab sp1 teen materials spring 2021 mond...  \n",
       "4  privacy in the internet age lis 584 pvo fall 2...  "
      ]
     },
     "execution_count": 3,
     "metadata": {},
     "output_type": "execute_result"
    }
   ],
   "source": [
    "df.head()"
   ]
  },
  {
   "cell_type": "code",
   "execution_count": 4,
   "metadata": {},
   "outputs": [],
   "source": [
    "courseNumbers = []\n",
    "firstval = []\n",
    "for i in df['0']:\n",
    "    if i[0] == 'I' and i[1] == 'S':\n",
    "        courseNumbers.append(int(i[3:6]))\n",
    "    elif i[0] == 'G':\n",
    "        courseNumbers.append(int(i[4:7]))\n",
    "    elif i[0] == 'I' and i[1] == 'N':\n",
    "        courseNumbers.append(int(i[5:8]))\n",
    "    elif i[0] == 'W':\n",
    "        courseNumbers.append(int(i[5:8]))\n",
    "    firstval.append(i[0])\n",
    "courseNumbers.append(0)\n",
    "\n",
    "df['courseNumbers'] = courseNumbers"
   ]
  },
  {
   "cell_type": "code",
   "execution_count": 5,
   "metadata": {},
   "outputs": [],
   "source": [
    "df = df[df['courseNumbers'] >= 400]"
   ]
  },
  {
   "cell_type": "code",
   "execution_count": 6,
   "metadata": {},
   "outputs": [
    {
     "data": {
      "text/html": [
       "<div>\n",
       "<style scoped>\n",
       "    .dataframe tbody tr th:only-of-type {\n",
       "        vertical-align: middle;\n",
       "    }\n",
       "\n",
       "    .dataframe tbody tr th {\n",
       "        vertical-align: top;\n",
       "    }\n",
       "\n",
       "    .dataframe thead th {\n",
       "        text-align: right;\n",
       "    }\n",
       "</style>\n",
       "<table border=\"1\" class=\"dataframe\">\n",
       "  <thead>\n",
       "    <tr style=\"text-align: right;\">\n",
       "      <th></th>\n",
       "      <th>Unnamed: 0</th>\n",
       "      <th>0</th>\n",
       "      <th>1</th>\n",
       "      <th>courseNumbers</th>\n",
       "    </tr>\n",
       "  </thead>\n",
       "  <tbody>\n",
       "    <tr>\n",
       "      <th>1</th>\n",
       "      <td>1</td>\n",
       "      <td>IS 567 BC FA22 Text Mining (Blake, C).pdf</td>\n",
       "      <td>syllabus for is567 ac text mining fall 2022...</td>\n",
       "      <td>567</td>\n",
       "    </tr>\n",
       "    <tr>\n",
       "      <th>2</th>\n",
       "      <td>2</td>\n",
       "      <td>IS 507 AC, BC FA22 Data, Stat, Info (Besser, S...</td>\n",
       "      <td>course  instructor information course and inst...</td>\n",
       "      <td>507</td>\n",
       "    </tr>\n",
       "    <tr>\n",
       "      <th>3</th>\n",
       "      <td>3</td>\n",
       "      <td>IS 413 BO SP21 Teen Materials (Quealy, K).pdf</td>\n",
       "      <td>1 is 413ab sp1 teen materials spring 2021 mond...</td>\n",
       "      <td>413</td>\n",
       "    </tr>\n",
       "    <tr>\n",
       "      <th>4</th>\n",
       "      <td>4</td>\n",
       "      <td>IS 584 PVO FA20 Privacy in the Internet Age (B...</td>\n",
       "      <td>privacy in the internet age lis 584 pvo fall 2...</td>\n",
       "      <td>584</td>\n",
       "    </tr>\n",
       "    <tr>\n",
       "      <th>5</th>\n",
       "      <td>5</td>\n",
       "      <td>IS 458 AO FA19 Instruc Strat Tech Info Prof (W...</td>\n",
       "      <td>is458\\tinstructional\\tstrategies\\tand\\ttechniq...</td>\n",
       "      <td>458</td>\n",
       "    </tr>\n",
       "  </tbody>\n",
       "</table>\n",
       "</div>"
      ],
      "text/plain": [
       "   Unnamed: 0                                                  0  \\\n",
       "1           1          IS 567 BC FA22 Text Mining (Blake, C).pdf   \n",
       "2           2  IS 507 AC, BC FA22 Data, Stat, Info (Besser, S...   \n",
       "3           3      IS 413 BO SP21 Teen Materials (Quealy, K).pdf   \n",
       "4           4  IS 584 PVO FA20 Privacy in the Internet Age (B...   \n",
       "5           5  IS 458 AO FA19 Instruc Strat Tech Info Prof (W...   \n",
       "\n",
       "                                                   1  courseNumbers  \n",
       "1     syllabus for is567 ac text mining fall 2022...            567  \n",
       "2  course  instructor information course and inst...            507  \n",
       "3  1 is 413ab sp1 teen materials spring 2021 mond...            413  \n",
       "4  privacy in the internet age lis 584 pvo fall 2...            584  \n",
       "5  is458\\tinstructional\\tstrategies\\tand\\ttechniq...            458  "
      ]
     },
     "execution_count": 6,
     "metadata": {},
     "output_type": "execute_result"
    }
   ],
   "source": [
    "df.head()"
   ]
  },
  {
   "cell_type": "code",
   "execution_count": 7,
   "metadata": {},
   "outputs": [
    {
     "name": "stderr",
     "output_type": "stream",
     "text": [
      "[nltk_data] Downloading package punkt to\n",
      "[nltk_data]     C:\\Users\\fjsti\\AppData\\Roaming\\nltk_data...\n",
      "[nltk_data]   Package punkt is already up-to-date!\n",
      "[nltk_data] Downloading package stopwords to\n",
      "[nltk_data]     C:\\Users\\fjsti\\AppData\\Roaming\\nltk_data...\n",
      "[nltk_data]   Package stopwords is already up-to-date!\n"
     ]
    }
   ],
   "source": [
    "import re\n",
    "import nltk\n",
    "\n",
    "nltk.download('punkt')\n",
    "from nltk.tokenize import word_tokenize as wt \n",
    "\n",
    "nltk.download('stopwords')\n",
    "from nltk.corpus import stopwords\n",
    "\n",
    "from nltk.stem.porter import PorterStemmer\n",
    "stemmer = PorterStemmer()\n",
    "\n",
    "#spell correction\n",
    "#from autocorrect import spell\n",
    "\n",
    "data = []\n",
    "\n",
    "for i in range(df.shape[0]):\n",
    "    sms = df.iloc[i, 2]\n",
    "\n",
    "    # remove non alphabatic characters\n",
    "    sms = re.sub('[^A-Za-z]', ' ', sms)\n",
    "\n",
    "    # make words lowercase, because Go and go will be considered as two words\n",
    "    sms = sms.lower()\n",
    "\n",
    "    # tokenising\n",
    "    tokenized_sms = wt(sms)\n",
    "\n",
    "    # remove stop words and stemming\n",
    " \n",
    "    sw = stopwords.words('english')\n",
    "    #sw.extend(['cid','student','cours','class','assign','inform','read','week','grade','univers','use','work','learn',\n",
    "#'instructor','due','academi','requir','may','illinoi','complet','pleas','materi','ischool','respons','meet','lectur','final',\n",
    "#'librari','academ','includ','resourc','contact','must'])\n",
    "\n",
    "    sms_processed = []\n",
    "    for word in tokenized_sms:\n",
    "        if word not in set(sw):\n",
    "            sms_processed.append((stemmer.stem(word)))\n",
    "\n",
    "    sms_text = \" \".join(sms_processed)\n",
    "    data.append(sms_text)\n",
    "\n",
    "#df['processedText'] = data"
   ]
  },
  {
   "cell_type": "code",
   "execution_count": 8,
   "metadata": {},
   "outputs": [
    {
     "name": "stderr",
     "output_type": "stream",
     "text": [
      "c:\\Users\\fjsti\\realCode\\standardizedTest-fairness\\.conda\\lib\\site-packages\\wordcloud\\wordcloud.py:106: MatplotlibDeprecationWarning: The get_cmap function was deprecated in Matplotlib 3.7 and will be removed two minor releases later. Use ``matplotlib.colormaps[name]`` or ``matplotlib.colormaps.get_cmap(obj)`` instead.\n",
      "  self.colormap = plt.cm.get_cmap(colormap)\n"
     ]
    },
    {
     "data": {
      "image/png": "[encoded data removed]",
      "text/plain": [
       "<PIL.Image.Image image mode=RGB size=400x200>"
      ]
     },
     "execution_count": 8,
     "metadata": {},
     "output_type": "execute_result"
    }
   ],
   "source": [
    "long_string = ','.join(list(data))\n",
    "wordcloud = WordCloud(background_color=\"white\", max_words=5000, contour_width=3, contour_color='steelblue')\n",
    "wordcloud.generate(long_string)\n",
    "wordcloud.to_image()"
   ]
  },
  {
   "cell_type": "code",
   "execution_count": 9,
   "metadata": {},
   "outputs": [],
   "source": [
    "sw = stopwords.words('english')\n",
    "sw.extend(['cid','student','cours','class','assign','inform','read','week','grade','univers','use','work','learn',\n",
    "'instructor','due','academi','requir','may','illinoi','complet','pleas','materi','ischool','respons','meet','lectur','final',\n",
    "'librari','academ','includ','resourc','contact','must'])\n",
    "\n",
    "def s2w(sent):\n",
    "    for sentence in sent:\n",
    "        yield(gensim.utils.simple_preprocess(str(sentence), deacc=True))\n",
    "\n",
    "def removeSW(txt):\n",
    "    return [[word for word in simple_preprocess(str(doc)) if word not in sw] for doc in txt]"
   ]
  },
  {
   "cell_type": "code",
   "execution_count": 10,
   "metadata": {},
   "outputs": [
    {
     "name": "stdout",
     "output_type": "stream",
     "text": [
      "['syllabu', 'ac', 'text', 'mine', 'fall', 'credit', 'hour', 'oper', 'detail', 'dr', 'catherin', 'blake', 'email', 'phone', 'teacher', 'assist', 'ryan', 'wang', 'email', 'hywang', 'illinoisedu', 'time', 'room', 'daniel', 'st', 'tuesday', 'offic', 'hour', 'tuesday', 'pm']\n"
     ]
    }
   ],
   "source": [
    "#data = df.processedText.values.tolist()\n",
    "dataWords = list(s2w(data))\n",
    "\n",
    "dataWords = removeSW(dataWords)\n",
    "print(dataWords[:1][0][:30])"
   ]
  },
  {
   "cell_type": "code",
   "execution_count": 11,
   "metadata": {},
   "outputs": [
    {
     "name": "stdout",
     "output_type": "stream",
     "text": [
      "[(0, 1), (1, 6), (2, 1), (3, 1), (4, 1), (5, 1), (6, 4), (7, 1), (8, 6), (9, 1), (10, 2), (11, 2), (12, 4), (13, 1), (14, 1), (15, 7), (16, 3), (17, 2), (18, 1), (19, 2), (20, 1), (21, 2), (22, 1), (23, 1), (24, 1), (25, 1), (26, 1), (27, 1), (28, 1), (29, 2)]\n"
     ]
    }
   ],
   "source": [
    "id2word = corpora.Dictionary(dataWords)\n",
    "txts = dataWords\n",
    "corpus = [id2word.doc2bow(text) for text in txts]\n",
    "print(corpus[:1][0][:30])"
   ]
  },
  {
   "cell_type": "code",
   "execution_count": null,
   "metadata": {},
   "outputs": [],
   "source": []
  },
  {
   "cell_type": "code",
   "execution_count": 12,
   "metadata": {},
   "outputs": [],
   "source": [
    "pyLDAvis.enable_notebook()"
   ]
  },
  {
   "cell_type": "code",
   "execution_count": 13,
   "metadata": {},
   "outputs": [],
   "source": [
    "#LDAvis_data_filepath = os.path.join('./resultsUNDERGRAD/ldavis_prepared_'+str(num_topics))"
   ]
  },
  {
   "cell_type": "code",
   "execution_count": 14,
   "metadata": {},
   "outputs": [],
   "source": [
    "from gensim.models import CoherenceModel"
   ]
  },
  {
   "cell_type": "code",
   "execution_count": 16,
   "metadata": {},
   "outputs": [
    {
     "name": "stdout",
     "output_type": "stream",
     "text": [
      "[(0,\n",
      "  '0.006*\"discuss\" + 0.005*\"commun\" + 0.005*\"research\" + 0.004*\"data\" + '\n",
      "  '0.004*\"servic\" + 0.004*\"design\" + 0.004*\"one\" + 0.004*\"particip\" + '\n",
      "  '0.004*\"integr\" + 0.004*\"present\"'),\n",
      " (1,\n",
      "  '0.006*\"discuss\" + 0.005*\"commun\" + 0.005*\"research\" + 0.005*\"write\" + '\n",
      "  '0.004*\"point\" + 0.004*\"group\" + 0.004*\"project\" + 0.004*\"present\" + '\n",
      "  '0.004*\"servic\" + 0.004*\"particip\"')]\n",
      "[(0,\n",
      "  '0.005*\"commun\" + 0.005*\"discuss\" + 0.005*\"data\" + 0.005*\"research\" + '\n",
      "  '0.004*\"particip\" + 0.004*\"servic\" + 0.004*\"group\" + 0.004*\"one\" + '\n",
      "  '0.004*\"provid\" + 0.004*\"write\"'),\n",
      " (1,\n",
      "  '0.007*\"discuss\" + 0.005*\"project\" + 0.005*\"commun\" + 0.005*\"research\" + '\n",
      "  '0.005*\"point\" + 0.004*\"servic\" + 0.004*\"present\" + 0.004*\"group\" + '\n",
      "  '0.004*\"particip\" + 0.004*\"one\"'),\n",
      " (2,\n",
      "  '0.006*\"discuss\" + 0.005*\"commun\" + 0.005*\"write\" + 0.005*\"research\" + '\n",
      "  '0.004*\"present\" + 0.004*\"practic\" + 0.004*\"group\" + 0.004*\"need\" + '\n",
      "  '0.004*\"servic\" + 0.004*\"one\"')]\n",
      "[(0,\n",
      "  '0.006*\"discuss\" + 0.006*\"commun\" + 0.005*\"research\" + 0.005*\"group\" + '\n",
      "  '0.004*\"data\" + 0.004*\"servic\" + 0.004*\"point\" + 0.004*\"project\" + '\n",
      "  '0.004*\"post\" + 0.004*\"particip\"'),\n",
      " (1,\n",
      "  '0.006*\"discuss\" + 0.006*\"commun\" + 0.005*\"servic\" + 0.004*\"research\" + '\n",
      "  '0.004*\"write\" + 0.004*\"group\" + 0.004*\"provid\" + 0.004*\"present\" + '\n",
      "  '0.004*\"design\" + 0.004*\"integr\"'),\n",
      " (2,\n",
      "  '0.006*\"discuss\" + 0.005*\"commun\" + 0.005*\"data\" + 0.004*\"group\" + '\n",
      "  '0.004*\"design\" + 0.004*\"one\" + 0.004*\"research\" + 0.004*\"project\" + '\n",
      "  '0.004*\"write\" + 0.004*\"present\"'),\n",
      " (3,\n",
      "  '0.006*\"discuss\" + 0.005*\"research\" + 0.005*\"particip\" + 0.005*\"write\" + '\n",
      "  '0.004*\"point\" + 0.004*\"servic\" + 0.004*\"present\" + 0.004*\"commun\" + '\n",
      "  '0.004*\"need\" + 0.004*\"project\"')]\n",
      "[(0,\n",
      "  '0.008*\"discuss\" + 0.005*\"project\" + 0.005*\"research\" + 0.004*\"write\" + '\n",
      "  '0.004*\"group\" + 0.004*\"commun\" + 0.004*\"data\" + 0.004*\"one\" + 0.004*\"time\" '\n",
      "  '+ 0.004*\"present\"'),\n",
      " (1,\n",
      "  '0.006*\"discuss\" + 0.005*\"commun\" + 0.005*\"point\" + 0.005*\"particip\" + '\n",
      "  '0.004*\"design\" + 0.004*\"write\" + 0.004*\"question\" + 0.004*\"servic\" + '\n",
      "  '0.004*\"provid\" + 0.004*\"research\"'),\n",
      " (2,\n",
      "  '0.006*\"discuss\" + 0.005*\"servic\" + 0.005*\"commun\" + 0.005*\"point\" + '\n",
      "  '0.004*\"research\" + 0.004*\"one\" + 0.004*\"time\" + 0.004*\"write\" + '\n",
      "  '0.004*\"group\" + 0.004*\"particip\"'),\n",
      " (3,\n",
      "  '0.007*\"research\" + 0.005*\"commun\" + 0.005*\"discuss\" + 0.005*\"present\" + '\n",
      "  '0.004*\"practic\" + 0.004*\"one\" + 0.004*\"access\" + 0.004*\"point\" + '\n",
      "  '0.004*\"write\" + 0.004*\"post\"'),\n",
      " (4,\n",
      "  '0.006*\"discuss\" + 0.006*\"commun\" + 0.005*\"data\" + 0.004*\"present\" + '\n",
      "  '0.004*\"group\" + 0.004*\"project\" + 0.004*\"particip\" + 0.004*\"design\" + '\n",
      "  '0.004*\"servic\" + 0.004*\"integr\"')]\n",
      "[(0,\n",
      "  '0.007*\"discuss\" + 0.005*\"research\" + 0.005*\"present\" + 0.005*\"servic\" + '\n",
      "  '0.004*\"project\" + 0.004*\"group\" + 0.004*\"one\" + 0.004*\"particip\" + '\n",
      "  '0.004*\"point\" + 0.004*\"commun\"'),\n",
      " (1,\n",
      "  '0.007*\"commun\" + 0.005*\"project\" + 0.005*\"discuss\" + 0.004*\"point\" + '\n",
      "  '0.004*\"data\" + 0.004*\"servic\" + 0.004*\"research\" + 0.004*\"particip\" + '\n",
      "  '0.004*\"need\" + 0.004*\"integr\"'),\n",
      " (2,\n",
      "  '0.006*\"discuss\" + 0.006*\"commun\" + 0.005*\"data\" + 0.005*\"time\" + '\n",
      "  '0.005*\"one\" + 0.004*\"point\" + 0.004*\"write\" + 0.004*\"particip\" + '\n",
      "  '0.004*\"project\" + 0.004*\"group\"'),\n",
      " (3,\n",
      "  '0.007*\"discuss\" + 0.005*\"commun\" + 0.005*\"design\" + 0.005*\"servic\" + '\n",
      "  '0.004*\"research\" + 0.004*\"data\" + 0.004*\"point\" + 0.004*\"present\" + '\n",
      "  '0.004*\"provid\" + 0.004*\"write\"'),\n",
      " (4,\n",
      "  '0.005*\"research\" + 0.005*\"one\" + 0.005*\"write\" + 0.004*\"discuss\" + '\n",
      "  '0.004*\"particip\" + 0.004*\"present\" + 0.004*\"commun\" + 0.004*\"group\" + '\n",
      "  '0.004*\"design\" + 0.004*\"data\"'),\n",
      " (5,\n",
      "  '0.007*\"discuss\" + 0.005*\"commun\" + 0.005*\"research\" + 0.005*\"servic\" + '\n",
      "  '0.005*\"write\" + 0.004*\"group\" + 0.004*\"practic\" + 0.004*\"design\" + '\n",
      "  '0.004*\"one\" + 0.003*\"point\"')]\n",
      "[(0,\n",
      "  '0.005*\"discuss\" + 0.005*\"present\" + 0.005*\"point\" + 0.004*\"commun\" + '\n",
      "  '0.004*\"book\" + 0.004*\"need\" + 0.004*\"social\" + 0.004*\"practic\" + '\n",
      "  '0.004*\"particip\" + 0.004*\"research\"'),\n",
      " (1,\n",
      "  '0.008*\"discuss\" + 0.006*\"research\" + 0.005*\"commun\" + 0.005*\"data\" + '\n",
      "  '0.004*\"project\" + 0.004*\"servic\" + 0.004*\"write\" + 0.004*\"design\" + '\n",
      "  '0.004*\"topic\" + 0.004*\"point\"'),\n",
      " (2,\n",
      "  '0.006*\"discuss\" + 0.005*\"research\" + 0.005*\"servic\" + 0.005*\"attend\" + '\n",
      "  '0.005*\"group\" + 0.004*\"commun\" + 0.004*\"project\" + 0.004*\"particip\" + '\n",
      "  '0.004*\"point\" + 0.004*\"one\"'),\n",
      " (3,\n",
      "  '0.007*\"commun\" + 0.005*\"group\" + 0.005*\"discuss\" + 0.005*\"research\" + '\n",
      "  '0.005*\"write\" + 0.004*\"provid\" + 0.004*\"design\" + 0.004*\"practic\" + '\n",
      "  '0.004*\"present\" + 0.004*\"integr\"'),\n",
      " (4,\n",
      "  '0.006*\"discuss\" + 0.005*\"write\" + 0.005*\"one\" + 0.005*\"servic\" + '\n",
      "  '0.005*\"commun\" + 0.004*\"present\" + 0.004*\"particip\" + 0.004*\"research\" + '\n",
      "  '0.004*\"time\" + 0.004*\"project\"'),\n",
      " (5,\n",
      "  '0.007*\"discuss\" + 0.006*\"data\" + 0.005*\"commun\" + 0.005*\"research\" + '\n",
      "  '0.005*\"one\" + 0.005*\"write\" + 0.004*\"point\" + 0.004*\"present\" + '\n",
      "  '0.004*\"group\" + 0.004*\"post\"'),\n",
      " (6,\n",
      "  '0.005*\"commun\" + 0.005*\"data\" + 0.005*\"point\" + 0.005*\"discuss\" + '\n",
      "  '0.004*\"research\" + 0.004*\"servic\" + 0.004*\"project\" + 0.004*\"one\" + '\n",
      "  '0.004*\"need\" + 0.004*\"particip\"')]\n"
     ]
    }
   ],
   "source": [
    "max_coherence = -1\n",
    "best_lda_model = None\n",
    "best_lda_model_path = ''\n",
    "for num_topics in range(2,10):\n",
    "    \n",
    "    # number of topics\n",
    "    # Build LDA model\n",
    "    lda_model = gensim.models.LdaMulticore(corpus=corpus, id2word=id2word, num_topics=num_topics)\n",
    "    # Print the Keyword in the 10 topics\n",
    "    pprint(lda_model.print_topics())\n",
    "    doc_lda = lda_model[corpus]\n",
    "\n",
    "    pyLDAvis.enable_notebook()\n",
    "    LDAvis_data_filepath = os.path.join('./resultsGRAD/ldavis_prepared_'+str(num_topics))\n",
    "\n",
    "    coherence_model = CoherenceModel(model = lda_model, texts = txts, dictionary=id2word)\n",
    "\n",
    "    coherence_value = coherence_model.get_coherence()\n",
    "\n",
    "    if coherence_value > max_coherence:\n",
    "        max_coherence = coherence_value\n",
    "        best_lda_model = lda_model\n",
    "        best_lda_model_path = LDAvis_data_filepath\n",
    "\n",
    "    if 1 == 1:\n",
    "        LDAvis_prepared = pyLDAvis.gensim_models.prepare(lda_model, corpus, id2word)\n",
    "        with open(LDAvis_data_filepath, 'wb') as f:\n",
    "            pickle.dump(LDAvis_prepared, f)\n",
    "    # load the pre-prepared pyLDAvis data from disk\n",
    "    with open(LDAvis_data_filepath, 'rb') as f:\n",
    "        LDAvis_prepared = pickle.load(f)\n",
    "    pyLDAvis.save_html(LDAvis_prepared, './resultsGRAD/ldavis_prepared_'+ str(num_topics) +'.html')\n",
    "    #LDAvis_prepared"
   ]
  },
  {
   "cell_type": "code",
   "execution_count": null,
   "metadata": {},
   "outputs": [],
   "source": []
  },
  {
   "cell_type": "code",
   "execution_count": null,
   "metadata": {},
   "outputs": [
    {
     "data": {
      "text/plain": [
       "'./resultsUNDERGRAD/ldavis_prepared_3'"
      ]
     },
     "execution_count": 30,
     "metadata": {},
     "output_type": "execute_result"
    }
   ],
   "source": [
    "best_lda_model_path"
   ]
  },
  {
   "cell_type": "code",
   "execution_count": null,
   "metadata": {},
   "outputs": [
    {
     "data": {
      "text/plain": [
       "[('data', 0.0061270115),\n",
       " ('commun', 0.0057457485),\n",
       " ('discuss', 0.0053870496),\n",
       " ('design', 0.0050209602),\n",
       " ('write', 0.004277122),\n",
       " ('particip', 0.004276984),\n",
       " ('research', 0.0040536933),\n",
       " ('provid', 0.0040257354),\n",
       " ('expect', 0.003854916),\n",
       " ('need', 0.003811144)]"
      ]
     },
     "execution_count": 32,
     "metadata": {},
     "output_type": "execute_result"
    }
   ],
   "source": [
    "best_lda_model.show_topic(0)"
   ]
  },
  {
   "cell_type": "code",
   "execution_count": null,
   "metadata": {},
   "outputs": [],
   "source": [
    "classifications = best_lda_model.get_document_topics(corpus)"
   ]
  },
  {
   "cell_type": "code",
   "execution_count": null,
   "metadata": {},
   "outputs": [],
   "source": [
    "df['topics'] = classifications"
   ]
  },
  {
   "cell_type": "code",
   "execution_count": null,
   "metadata": {},
   "outputs": [
    {
     "data": {
      "text/html": [
       "<div>\n",
       "<style scoped>\n",
       "    .dataframe tbody tr th:only-of-type {\n",
       "        vertical-align: middle;\n",
       "    }\n",
       "\n",
       "    .dataframe tbody tr th {\n",
       "        vertical-align: top;\n",
       "    }\n",
       "\n",
       "    .dataframe thead th {\n",
       "        text-align: right;\n",
       "    }\n",
       "</style>\n",
       "<table border=\"1\" class=\"dataframe\">\n",
       "  <thead>\n",
       "    <tr style=\"text-align: right;\">\n",
       "      <th></th>\n",
       "      <th>Unnamed: 0</th>\n",
       "      <th>0</th>\n",
       "      <th>1</th>\n",
       "      <th>courseNumbers</th>\n",
       "      <th>topics</th>\n",
       "    </tr>\n",
       "  </thead>\n",
       "  <tbody>\n",
       "    <tr>\n",
       "      <th>0</th>\n",
       "      <td>0</td>\n",
       "      <td>IS 100 A, ONL SP21 Exploring the iSchool (Torr...</td>\n",
       "      <td>exploring the ischool with a humancentered len...</td>\n",
       "      <td>100</td>\n",
       "      <td>[(0, 0.017419554), (1, 0.90658754), (2, 0.0759...</td>\n",
       "    </tr>\n",
       "    <tr>\n",
       "      <th>3</th>\n",
       "      <td>3</td>\n",
       "      <td>IS 413 BO SP21 Teen Materials (Quealy, K).pdf</td>\n",
       "      <td>1 is 413ab sp1 teen materials spring 2021 mond...</td>\n",
       "      <td>413</td>\n",
       "      <td>[(0, 0.4334025), (1, 0.03019826), (2, 0.5363992)]</td>\n",
       "    </tr>\n",
       "    <tr>\n",
       "      <th>5</th>\n",
       "      <td>5</td>\n",
       "      <td>IS 458 AO FA19 Instruc Strat Tech Info Prof (W...</td>\n",
       "      <td>is458\\tinstructional\\tstrategies\\tand\\ttechniq...</td>\n",
       "      <td>458</td>\n",
       "      <td>[(0, 0.08952905), (1, 0.90728205)]</td>\n",
       "    </tr>\n",
       "    <tr>\n",
       "      <th>6</th>\n",
       "      <td>6</td>\n",
       "      <td>IS 401 ACG, ACU FA22 Introduction to Networked...</td>\n",
       "      <td>1      introduction to networked information...</td>\n",
       "      <td>401</td>\n",
       "      <td>[(0, 0.6108254), (1, 0.1912857), (2, 0.19788882)]</td>\n",
       "    </tr>\n",
       "    <tr>\n",
       "      <th>7</th>\n",
       "      <td>7</td>\n",
       "      <td>GSD 102 AL FA22 Intro to the Videogame Industr...</td>\n",
       "      <td>gsd 102 introduction to the video game industr...</td>\n",
       "      <td>102</td>\n",
       "      <td>[(2, 0.9987778)]</td>\n",
       "    </tr>\n",
       "  </tbody>\n",
       "</table>\n",
       "</div>"
      ],
      "text/plain": [
       "   Unnamed: 0                                                  0  \\\n",
       "0           0  IS 100 A, ONL SP21 Exploring the iSchool (Torr...   \n",
       "3           3      IS 413 BO SP21 Teen Materials (Quealy, K).pdf   \n",
       "5           5  IS 458 AO FA19 Instruc Strat Tech Info Prof (W...   \n",
       "6           6  IS 401 ACG, ACU FA22 Introduction to Networked...   \n",
       "7           7  GSD 102 AL FA22 Intro to the Videogame Industr...   \n",
       "\n",
       "                                                   1  courseNumbers  \\\n",
       "0  exploring the ischool with a humancentered len...            100   \n",
       "3  1 is 413ab sp1 teen materials spring 2021 mond...            413   \n",
       "5  is458\\tinstructional\\tstrategies\\tand\\ttechniq...            458   \n",
       "6    1      introduction to networked information...            401   \n",
       "7  gsd 102 introduction to the video game industr...            102   \n",
       "\n",
       "                                              topics  \n",
       "0  [(0, 0.017419554), (1, 0.90658754), (2, 0.0759...  \n",
       "3  [(0, 0.4334025), (1, 0.03019826), (2, 0.5363992)]  \n",
       "5                 [(0, 0.08952905), (1, 0.90728205)]  \n",
       "6  [(0, 0.6108254), (1, 0.1912857), (2, 0.19788882)]  \n",
       "7                                   [(2, 0.9987778)]  "
      ]
     },
     "execution_count": 37,
     "metadata": {},
     "output_type": "execute_result"
    }
   ],
   "source": [
    "df.head()"
   ]
  },
  {
   "cell_type": "code",
   "execution_count": null,
   "metadata": {},
   "outputs": [],
   "source": [
    "df.to_csv('pdfConvertwTopicsGRAD.csv', escapechar='\\\\', sep = '|')"
   ]
  }
 ],
 "metadata": {
  "kernelspec": {
   "display_name": "Python 3",
   "language": "python",
   "name": "python3"
  },
  "language_info": {
   "codemirror_mode": {
    "name": "ipython",
    "version": 3
   },
   "file_extension": ".py",
   "mimetype": "text/x-python",
   "name": "python",
   "nbconvert_exporter": "python",
   "pygments_lexer": "ipython3",
   "version": "3.10.11"
  },
  "orig_nbformat": 4
 },
 "nbformat": 4,
 "nbformat_minor": 2
}
