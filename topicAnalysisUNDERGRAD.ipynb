{
 "cells": [
  {
   "cell_type": "code",
   "execution_count": 2,
   "metadata": {},
   "outputs": [],
   "source": [
    "import pandas as pd\n",
    "import ast"
   ]
  },
  {
   "cell_type": "code",
   "execution_count": 7,
   "metadata": {},
   "outputs": [],
   "source": [
    "df = pd.read_csv('pdfConvertwTopicsUNDERGRAD.csv', sep = '|')"
   ]
  },
  {
   "cell_type": "code",
   "execution_count": 8,
   "metadata": {},
   "outputs": [
    {
     "data": {
      "text/html": [
       "<div>\n",
       "<style scoped>\n",
       "    .dataframe tbody tr th:only-of-type {\n",
       "        vertical-align: middle;\n",
       "    }\n",
       "\n",
       "    .dataframe tbody tr th {\n",
       "        vertical-align: top;\n",
       "    }\n",
       "\n",
       "    .dataframe thead th {\n",
       "        text-align: right;\n",
       "    }\n",
       "</style>\n",
       "<table border=\"1\" class=\"dataframe\">\n",
       "  <thead>\n",
       "    <tr style=\"text-align: right;\">\n",
       "      <th></th>\n",
       "      <th>Unnamed: 0.1</th>\n",
       "      <th>Unnamed: 0</th>\n",
       "      <th>0</th>\n",
       "      <th>1</th>\n",
       "      <th>courseNumbers</th>\n",
       "      <th>topics</th>\n",
       "    </tr>\n",
       "  </thead>\n",
       "  <tbody>\n",
       "    <tr>\n",
       "      <th>0</th>\n",
       "      <td>0</td>\n",
       "      <td>0</td>\n",
       "      <td>IS 100 A, ONL SP21 Exploring the iSchool (Torr...</td>\n",
       "      <td>exploring the ischool with a humancentered len...</td>\n",
       "      <td>100</td>\n",
       "      <td>[(0, 0.017419554), (1, 0.90658754), (2, 0.0759...</td>\n",
       "    </tr>\n",
       "    <tr>\n",
       "      <th>1</th>\n",
       "      <td>3</td>\n",
       "      <td>3</td>\n",
       "      <td>IS 413 BO SP21 Teen Materials (Quealy, K).pdf</td>\n",
       "      <td>1 is 413ab sp1 teen materials spring 2021 mond...</td>\n",
       "      <td>413</td>\n",
       "      <td>[(0, 0.4334025), (1, 0.03019826), (2, 0.5363992)]</td>\n",
       "    </tr>\n",
       "    <tr>\n",
       "      <th>2</th>\n",
       "      <td>5</td>\n",
       "      <td>5</td>\n",
       "      <td>IS 458 AO FA19 Instruc Strat Tech Info Prof (W...</td>\n",
       "      <td>is458\\tinstructional\\tstrategies\\tand\\ttechniq...</td>\n",
       "      <td>458</td>\n",
       "      <td>[(0, 0.08952905), (1, 0.90728205)]</td>\n",
       "    </tr>\n",
       "    <tr>\n",
       "      <th>3</th>\n",
       "      <td>6</td>\n",
       "      <td>6</td>\n",
       "      <td>IS 401 ACG, ACU FA22 Introduction to Networked...</td>\n",
       "      <td>1      introduction to networked information...</td>\n",
       "      <td>401</td>\n",
       "      <td>[(0, 0.6108254), (1, 0.1912857), (2, 0.19788882)]</td>\n",
       "    </tr>\n",
       "    <tr>\n",
       "      <th>4</th>\n",
       "      <td>7</td>\n",
       "      <td>7</td>\n",
       "      <td>GSD 102 AL FA22 Intro to the Videogame Industr...</td>\n",
       "      <td>gsd 102 introduction to the video game industr...</td>\n",
       "      <td>102</td>\n",
       "      <td>[(2, 0.9987778)]</td>\n",
       "    </tr>\n",
       "    <tr>\n",
       "      <th>5</th>\n",
       "      <td>8</td>\n",
       "      <td>8</td>\n",
       "      <td>IS 445 AO SP20 Info Books &amp; Resources Youth (M...</td>\n",
       "      <td>is445 ao information books and resources for y...</td>\n",
       "      <td>445</td>\n",
       "      <td>[(0, 0.1818683), (1, 0.79784626), (2, 0.020285...</td>\n",
       "    </tr>\n",
       "    <tr>\n",
       "      <th>6</th>\n",
       "      <td>9</td>\n",
       "      <td>9</td>\n",
       "      <td>GSD 390 DBU FA22 Introduction to Unreal (Baird...</td>\n",
       "      <td>gsd 390 – introduction to unreal   general inf...</td>\n",
       "      <td>390</td>\n",
       "      <td>[(0, 0.779072), (1, 0.08906044), (2, 0.13186763)]</td>\n",
       "    </tr>\n",
       "    <tr>\n",
       "      <th>7</th>\n",
       "      <td>10</td>\n",
       "      <td>10</td>\n",
       "      <td>IS 467 AOU SP21 Ethics &amp; Policy for Data Scien...</td>\n",
       "      <td>syllabus for is 467 data ethics and policy  1 ...</td>\n",
       "      <td>467</td>\n",
       "      <td>[(0, 0.99484944)]</td>\n",
       "    </tr>\n",
       "    <tr>\n",
       "      <th>8</th>\n",
       "      <td>13</td>\n",
       "      <td>13</td>\n",
       "      <td>IS 226 AO FA20 Introduction to HCI (Wang, Y).pdf</td>\n",
       "      <td>1 is226 introduction to humancomputer interact...</td>\n",
       "      <td>226</td>\n",
       "      <td>[(0, 0.8287294), (1, 0.12854008), (2, 0.042730...</td>\n",
       "    </tr>\n",
       "    <tr>\n",
       "      <th>9</th>\n",
       "      <td>17</td>\n",
       "      <td>17</td>\n",
       "      <td>IS 419 AOG, AOU SP21 Entrepreneurial IT Design...</td>\n",
       "      <td>1 syllabus full course title entrepreneurial i...</td>\n",
       "      <td>419</td>\n",
       "      <td>[(0, 0.34523186), (1, 0.016879313), (2, 0.6378...</td>\n",
       "    </tr>\n",
       "  </tbody>\n",
       "</table>\n",
       "</div>"
      ],
      "text/plain": [
       "   Unnamed: 0.1  Unnamed: 0  \\\n",
       "0             0           0   \n",
       "1             3           3   \n",
       "2             5           5   \n",
       "3             6           6   \n",
       "4             7           7   \n",
       "5             8           8   \n",
       "6             9           9   \n",
       "7            10          10   \n",
       "8            13          13   \n",
       "9            17          17   \n",
       "\n",
       "                                                   0  \\\n",
       "0  IS 100 A, ONL SP21 Exploring the iSchool (Torr...   \n",
       "1      IS 413 BO SP21 Teen Materials (Quealy, K).pdf   \n",
       "2  IS 458 AO FA19 Instruc Strat Tech Info Prof (W...   \n",
       "3  IS 401 ACG, ACU FA22 Introduction to Networked...   \n",
       "4  GSD 102 AL FA22 Intro to the Videogame Industr...   \n",
       "5  IS 445 AO SP20 Info Books & Resources Youth (M...   \n",
       "6  GSD 390 DBU FA22 Introduction to Unreal (Baird...   \n",
       "7  IS 467 AOU SP21 Ethics & Policy for Data Scien...   \n",
       "8   IS 226 AO FA20 Introduction to HCI (Wang, Y).pdf   \n",
       "9  IS 419 AOG, AOU SP21 Entrepreneurial IT Design...   \n",
       "\n",
       "                                                   1  courseNumbers  \\\n",
       "0  exploring the ischool with a humancentered len...            100   \n",
       "1  1 is 413ab sp1 teen materials spring 2021 mond...            413   \n",
       "2  is458\\tinstructional\\tstrategies\\tand\\ttechniq...            458   \n",
       "3    1      introduction to networked information...            401   \n",
       "4  gsd 102 introduction to the video game industr...            102   \n",
       "5  is445 ao information books and resources for y...            445   \n",
       "6  gsd 390 – introduction to unreal   general inf...            390   \n",
       "7  syllabus for is 467 data ethics and policy  1 ...            467   \n",
       "8  1 is226 introduction to humancomputer interact...            226   \n",
       "9  1 syllabus full course title entrepreneurial i...            419   \n",
       "\n",
       "                                              topics  \n",
       "0  [(0, 0.017419554), (1, 0.90658754), (2, 0.0759...  \n",
       "1  [(0, 0.4334025), (1, 0.03019826), (2, 0.5363992)]  \n",
       "2                 [(0, 0.08952905), (1, 0.90728205)]  \n",
       "3  [(0, 0.6108254), (1, 0.1912857), (2, 0.19788882)]  \n",
       "4                                   [(2, 0.9987778)]  \n",
       "5  [(0, 0.1818683), (1, 0.79784626), (2, 0.020285...  \n",
       "6  [(0, 0.779072), (1, 0.08906044), (2, 0.13186763)]  \n",
       "7                                  [(0, 0.99484944)]  \n",
       "8  [(0, 0.8287294), (1, 0.12854008), (2, 0.042730...  \n",
       "9  [(0, 0.34523186), (1, 0.016879313), (2, 0.6378...  "
      ]
     },
     "execution_count": 8,
     "metadata": {},
     "output_type": "execute_result"
    }
   ],
   "source": [
    "df.head(10)"
   ]
  },
  {
   "cell_type": "code",
   "execution_count": null,
   "metadata": {},
   "outputs": [],
   "source": []
  },
  {
   "cell_type": "code",
   "execution_count": null,
   "metadata": {},
   "outputs": [],
   "source": []
  },
  {
   "cell_type": "code",
   "execution_count": 9,
   "metadata": {},
   "outputs": [
    {
     "data": {
      "text/plain": [
       "0.4334025"
      ]
     },
     "execution_count": 9,
     "metadata": {},
     "output_type": "execute_result"
    }
   ],
   "source": [
    "list(ast.literal_eval(df['topics'][1]))[0][1]"
   ]
  },
  {
   "cell_type": "code",
   "execution_count": 15,
   "metadata": {},
   "outputs": [],
   "source": [
    "correctTopic = []\n",
    "for i in df['topics']:\n",
    "    tmp = list(ast.literal_eval(i))\n",
    "    maxVal = 0\n",
    "    cl = ''\n",
    "    for j in tmp:\n",
    "        if j[1] > maxVal:\n",
    "            cl = j[0]\n",
    "            maxVal = j[1]\n",
    "    correctTopic.append(cl)"
   ]
  },
  {
   "cell_type": "code",
   "execution_count": 16,
   "metadata": {},
   "outputs": [],
   "source": [
    "df['correctTopic'] = correctTopic"
   ]
  },
  {
   "cell_type": "code",
   "execution_count": 17,
   "metadata": {},
   "outputs": [
    {
     "data": {
      "text/html": [
       "<div>\n",
       "<style scoped>\n",
       "    .dataframe tbody tr th:only-of-type {\n",
       "        vertical-align: middle;\n",
       "    }\n",
       "\n",
       "    .dataframe tbody tr th {\n",
       "        vertical-align: top;\n",
       "    }\n",
       "\n",
       "    .dataframe thead th {\n",
       "        text-align: right;\n",
       "    }\n",
       "</style>\n",
       "<table border=\"1\" class=\"dataframe\">\n",
       "  <thead>\n",
       "    <tr style=\"text-align: right;\">\n",
       "      <th></th>\n",
       "      <th>Unnamed: 0.1</th>\n",
       "      <th>Unnamed: 0</th>\n",
       "      <th>0</th>\n",
       "      <th>1</th>\n",
       "      <th>courseNumbers</th>\n",
       "      <th>topics</th>\n",
       "      <th>correctTopic</th>\n",
       "    </tr>\n",
       "  </thead>\n",
       "  <tbody>\n",
       "    <tr>\n",
       "      <th>0</th>\n",
       "      <td>0</td>\n",
       "      <td>0</td>\n",
       "      <td>IS 100 A, ONL SP21 Exploring the iSchool (Torr...</td>\n",
       "      <td>exploring the ischool with a humancentered len...</td>\n",
       "      <td>100</td>\n",
       "      <td>[(0, 0.017419554), (1, 0.90658754), (2, 0.0759...</td>\n",
       "      <td>1</td>\n",
       "    </tr>\n",
       "    <tr>\n",
       "      <th>1</th>\n",
       "      <td>3</td>\n",
       "      <td>3</td>\n",
       "      <td>IS 413 BO SP21 Teen Materials (Quealy, K).pdf</td>\n",
       "      <td>1 is 413ab sp1 teen materials spring 2021 mond...</td>\n",
       "      <td>413</td>\n",
       "      <td>[(0, 0.4334025), (1, 0.03019826), (2, 0.5363992)]</td>\n",
       "      <td>2</td>\n",
       "    </tr>\n",
       "    <tr>\n",
       "      <th>2</th>\n",
       "      <td>5</td>\n",
       "      <td>5</td>\n",
       "      <td>IS 458 AO FA19 Instruc Strat Tech Info Prof (W...</td>\n",
       "      <td>is458\\tinstructional\\tstrategies\\tand\\ttechniq...</td>\n",
       "      <td>458</td>\n",
       "      <td>[(0, 0.08952905), (1, 0.90728205)]</td>\n",
       "      <td>1</td>\n",
       "    </tr>\n",
       "    <tr>\n",
       "      <th>3</th>\n",
       "      <td>6</td>\n",
       "      <td>6</td>\n",
       "      <td>IS 401 ACG, ACU FA22 Introduction to Networked...</td>\n",
       "      <td>1      introduction to networked information...</td>\n",
       "      <td>401</td>\n",
       "      <td>[(0, 0.6108254), (1, 0.1912857), (2, 0.19788882)]</td>\n",
       "      <td>0</td>\n",
       "    </tr>\n",
       "    <tr>\n",
       "      <th>4</th>\n",
       "      <td>7</td>\n",
       "      <td>7</td>\n",
       "      <td>GSD 102 AL FA22 Intro to the Videogame Industr...</td>\n",
       "      <td>gsd 102 introduction to the video game industr...</td>\n",
       "      <td>102</td>\n",
       "      <td>[(2, 0.9987778)]</td>\n",
       "      <td>2</td>\n",
       "    </tr>\n",
       "  </tbody>\n",
       "</table>\n",
       "</div>"
      ],
      "text/plain": [
       "   Unnamed: 0.1  Unnamed: 0  \\\n",
       "0             0           0   \n",
       "1             3           3   \n",
       "2             5           5   \n",
       "3             6           6   \n",
       "4             7           7   \n",
       "\n",
       "                                                   0  \\\n",
       "0  IS 100 A, ONL SP21 Exploring the iSchool (Torr...   \n",
       "1      IS 413 BO SP21 Teen Materials (Quealy, K).pdf   \n",
       "2  IS 458 AO FA19 Instruc Strat Tech Info Prof (W...   \n",
       "3  IS 401 ACG, ACU FA22 Introduction to Networked...   \n",
       "4  GSD 102 AL FA22 Intro to the Videogame Industr...   \n",
       "\n",
       "                                                   1  courseNumbers  \\\n",
       "0  exploring the ischool with a humancentered len...            100   \n",
       "1  1 is 413ab sp1 teen materials spring 2021 mond...            413   \n",
       "2  is458\\tinstructional\\tstrategies\\tand\\ttechniq...            458   \n",
       "3    1      introduction to networked information...            401   \n",
       "4  gsd 102 introduction to the video game industr...            102   \n",
       "\n",
       "                                              topics  correctTopic  \n",
       "0  [(0, 0.017419554), (1, 0.90658754), (2, 0.0759...             1  \n",
       "1  [(0, 0.4334025), (1, 0.03019826), (2, 0.5363992)]             2  \n",
       "2                 [(0, 0.08952905), (1, 0.90728205)]             1  \n",
       "3  [(0, 0.6108254), (1, 0.1912857), (2, 0.19788882)]             0  \n",
       "4                                   [(2, 0.9987778)]             2  "
      ]
     },
     "execution_count": 17,
     "metadata": {},
     "output_type": "execute_result"
    }
   ],
   "source": [
    "df.head()"
   ]
  },
  {
   "cell_type": "code",
   "execution_count": 18,
   "metadata": {},
   "outputs": [],
   "source": [
    "df1 = df[df['correctTopic'] == 0]\n",
    "df2 = df[df['correctTopic'] == 1]\n",
    "df3 = df[df['correctTopic'] == 2]"
   ]
  },
  {
   "cell_type": "code",
   "execution_count": 19,
   "metadata": {},
   "outputs": [
    {
     "name": "stdout",
     "output_type": "stream",
     "text": [
      "143\n",
      "57\n",
      "56\n"
     ]
    }
   ],
   "source": [
    "print(len(df1))\n",
    "print(len(df2))\n",
    "print(len(df3))"
   ]
  },
  {
   "cell_type": "code",
   "execution_count": 47,
   "metadata": {},
   "outputs": [
    {
     "name": "stderr",
     "output_type": "stream",
     "text": [
      "[nltk_data] Downloading package punkt to\n",
      "[nltk_data]     C:\\Users\\fjsti\\AppData\\Roaming\\nltk_data...\n",
      "[nltk_data]   Package punkt is already up-to-date!\n",
      "[nltk_data] Downloading package stopwords to\n",
      "[nltk_data]     C:\\Users\\fjsti\\AppData\\Roaming\\nltk_data...\n",
      "[nltk_data]   Package stopwords is already up-to-date!\n"
     ]
    }
   ],
   "source": [
    "import re\n",
    "import nltk\n",
    "nltk.download('punkt')\n",
    "from nltk.tokenize import word_tokenize as wt \n",
    "nltk.download('stopwords')\n",
    "from nltk.corpus import stopwords\n",
    "from nltk.stem.porter import PorterStemmer\n",
    "stemmer = PorterStemmer()\n",
    "#spell correction\n",
    "#from autocorrect import spell\n",
    "data = []\n",
    "for i in range(df1.shape[0]):\n",
    "    sms = df1.iloc[i, 3]\n",
    "    # remove non alphabatic characters\n",
    "    sms = re.sub('[^A-Za-z]', ' ', sms)\n",
    "    # make words lowercase, because Go and go will be considered as two words\n",
    "    sms = sms.lower()\n",
    "    # tokenising\n",
    "    tokenized_sms = wt(sms)\n",
    "    # remove stop words and stemming\n",
    "    sw = stopwords.words('english')\n",
    "    sw.extend(['cid','student','cours','class','assign','inform','read','week','grade','univers','use','work','learn',\n",
    "'instructor','due','academi','requir','may','illinoi','complet','pleas','materi','ischool','respons','meet','lectur','final',\n",
    "'librari','academ','includ','resourc','contact','must'])\n",
    "    sms_processed = []\n",
    "    for word in tokenized_sms:\n",
    "        if word not in set(sw):\n",
    "            sms_processed.append((stemmer.stem(word)))\n",
    "    sms_text = \" \".join(sms_processed)\n",
    "    data.append(sms_text)"
   ]
  },
  {
   "cell_type": "code",
   "execution_count": 48,
   "metadata": {},
   "outputs": [
    {
     "data": {
      "image/png": "[encoded data removed]",
      "text/plain": [
       "<PIL.Image.Image image mode=RGB size=400x200>"
      ]
     },
     "execution_count": 48,
     "metadata": {},
     "output_type": "execute_result"
    }
   ],
   "source": [
    "from wordcloud import WordCloud\n",
    "\n",
    "long_string = ','.join(list(data))\n",
    "wordcloud = WordCloud(background_color=\"white\", max_words=5000, contour_width=3, contour_color='steelblue')\n",
    "wordcloud.generate(long_string)\n",
    "wordcloud.to_image()"
   ]
  },
  {
   "cell_type": "code",
   "execution_count": 25,
   "metadata": {},
   "outputs": [],
   "source": [
    "courseNumbers = []\n",
    "firstval = []\n",
    "for i in df['0']:\n",
    "    if i[0] == 'I' and i[1] == 'S':\n",
    "        courseNumbers.append(i[3:6])\n",
    "    elif i[0] == 'G':\n",
    "        courseNumbers.append(i[4:7])\n",
    "    elif i[0] == 'I' and i[1] == 'N':\n",
    "        courseNumbers.append(i[5:8])\n",
    "    elif i[0] == 'W':\n",
    "        courseNumbers.append(i[5:8])\n",
    "    firstval.append(i[0])"
   ]
  },
  {
   "cell_type": "code",
   "execution_count": 23,
   "metadata": {},
   "outputs": [],
   "source": [
    "#courseNumbers.append('0')"
   ]
  },
  {
   "cell_type": "code",
   "execution_count": 26,
   "metadata": {},
   "outputs": [],
   "source": [
    "df['courseNumbers'] = courseNumbers"
   ]
  },
  {
   "cell_type": "code",
   "execution_count": 27,
   "metadata": {},
   "outputs": [
    {
     "data": {
      "text/html": [
       "<div>\n",
       "<style scoped>\n",
       "    .dataframe tbody tr th:only-of-type {\n",
       "        vertical-align: middle;\n",
       "    }\n",
       "\n",
       "    .dataframe tbody tr th {\n",
       "        vertical-align: top;\n",
       "    }\n",
       "\n",
       "    .dataframe thead th {\n",
       "        text-align: right;\n",
       "    }\n",
       "</style>\n",
       "<table border=\"1\" class=\"dataframe\">\n",
       "  <thead>\n",
       "    <tr style=\"text-align: right;\">\n",
       "      <th></th>\n",
       "      <th>Unnamed: 0.1</th>\n",
       "      <th>Unnamed: 0</th>\n",
       "      <th>0</th>\n",
       "      <th>1</th>\n",
       "      <th>courseNumbers</th>\n",
       "      <th>topics</th>\n",
       "      <th>correctTopic</th>\n",
       "    </tr>\n",
       "  </thead>\n",
       "  <tbody>\n",
       "    <tr>\n",
       "      <th>0</th>\n",
       "      <td>0</td>\n",
       "      <td>0</td>\n",
       "      <td>IS 100 A, ONL SP21 Exploring the iSchool (Torr...</td>\n",
       "      <td>exploring the ischool with a humancentered len...</td>\n",
       "      <td>100</td>\n",
       "      <td>[(0, 0.017419554), (1, 0.90658754), (2, 0.0759...</td>\n",
       "      <td>1</td>\n",
       "    </tr>\n",
       "    <tr>\n",
       "      <th>1</th>\n",
       "      <td>3</td>\n",
       "      <td>3</td>\n",
       "      <td>IS 413 BO SP21 Teen Materials (Quealy, K).pdf</td>\n",
       "      <td>1 is 413ab sp1 teen materials spring 2021 mond...</td>\n",
       "      <td>413</td>\n",
       "      <td>[(0, 0.4334025), (1, 0.03019826), (2, 0.5363992)]</td>\n",
       "      <td>2</td>\n",
       "    </tr>\n",
       "    <tr>\n",
       "      <th>2</th>\n",
       "      <td>5</td>\n",
       "      <td>5</td>\n",
       "      <td>IS 458 AO FA19 Instruc Strat Tech Info Prof (W...</td>\n",
       "      <td>is458\\tinstructional\\tstrategies\\tand\\ttechniq...</td>\n",
       "      <td>458</td>\n",
       "      <td>[(0, 0.08952905), (1, 0.90728205)]</td>\n",
       "      <td>1</td>\n",
       "    </tr>\n",
       "    <tr>\n",
       "      <th>3</th>\n",
       "      <td>6</td>\n",
       "      <td>6</td>\n",
       "      <td>IS 401 ACG, ACU FA22 Introduction to Networked...</td>\n",
       "      <td>1      introduction to networked information...</td>\n",
       "      <td>401</td>\n",
       "      <td>[(0, 0.6108254), (1, 0.1912857), (2, 0.19788882)]</td>\n",
       "      <td>0</td>\n",
       "    </tr>\n",
       "    <tr>\n",
       "      <th>4</th>\n",
       "      <td>7</td>\n",
       "      <td>7</td>\n",
       "      <td>GSD 102 AL FA22 Intro to the Videogame Industr...</td>\n",
       "      <td>gsd 102 introduction to the video game industr...</td>\n",
       "      <td>102</td>\n",
       "      <td>[(2, 0.9987778)]</td>\n",
       "      <td>2</td>\n",
       "    </tr>\n",
       "  </tbody>\n",
       "</table>\n",
       "</div>"
      ],
      "text/plain": [
       "   Unnamed: 0.1  Unnamed: 0  \\\n",
       "0             0           0   \n",
       "1             3           3   \n",
       "2             5           5   \n",
       "3             6           6   \n",
       "4             7           7   \n",
       "\n",
       "                                                   0  \\\n",
       "0  IS 100 A, ONL SP21 Exploring the iSchool (Torr...   \n",
       "1      IS 413 BO SP21 Teen Materials (Quealy, K).pdf   \n",
       "2  IS 458 AO FA19 Instruc Strat Tech Info Prof (W...   \n",
       "3  IS 401 ACG, ACU FA22 Introduction to Networked...   \n",
       "4  GSD 102 AL FA22 Intro to the Videogame Industr...   \n",
       "\n",
       "                                                   1 courseNumbers  \\\n",
       "0  exploring the ischool with a humancentered len...           100   \n",
       "1  1 is 413ab sp1 teen materials spring 2021 mond...           413   \n",
       "2  is458\\tinstructional\\tstrategies\\tand\\ttechniq...           458   \n",
       "3    1      introduction to networked information...           401   \n",
       "4  gsd 102 introduction to the video game industr...           102   \n",
       "\n",
       "                                              topics  correctTopic  \n",
       "0  [(0, 0.017419554), (1, 0.90658754), (2, 0.0759...             1  \n",
       "1  [(0, 0.4334025), (1, 0.03019826), (2, 0.5363992)]             2  \n",
       "2                 [(0, 0.08952905), (1, 0.90728205)]             1  \n",
       "3  [(0, 0.6108254), (1, 0.1912857), (2, 0.19788882)]             0  \n",
       "4                                   [(2, 0.9987778)]             2  "
      ]
     },
     "execution_count": 27,
     "metadata": {},
     "output_type": "execute_result"
    }
   ],
   "source": [
    "df.head()"
   ]
  },
  {
   "cell_type": "code",
   "execution_count": 28,
   "metadata": {},
   "outputs": [],
   "source": [
    "df1 = df[df['correctTopic'] == 0]\n",
    "df2 = df[df['correctTopic'] == 1]\n",
    "df3 = df[df['correctTopic'] == 2]"
   ]
  },
  {
   "cell_type": "code",
   "execution_count": 29,
   "metadata": {},
   "outputs": [],
   "source": [
    "import matplotlib.pyplot as plt\n",
    "import math"
   ]
  },
  {
   "cell_type": "code",
   "execution_count": 98,
   "metadata": {},
   "outputs": [],
   "source": [
    "#def roundDown(x):\n",
    "#    return int(math.floor(x / 100.0)) * 100"
   ]
  },
  {
   "cell_type": "code",
   "execution_count": 30,
   "metadata": {},
   "outputs": [],
   "source": [
    "courses1 = df1['courseNumbers'].to_numpy()\n",
    "courses2 = df2['courseNumbers'].to_numpy()\n",
    "courses3 = df3['courseNumbers'].to_numpy()"
   ]
  },
  {
   "cell_type": "code",
   "execution_count": 42,
   "metadata": {},
   "outputs": [],
   "source": [
    "for i in range(len(courses3)):\n",
    "    courses3[i] = int(courses3[i])"
   ]
  },
  {
   "cell_type": "code",
   "execution_count": 33,
   "metadata": {},
   "outputs": [],
   "source": [
    "import numpy as np"
   ]
  },
  {
   "cell_type": "code",
   "execution_count": 43,
   "metadata": {},
   "outputs": [
    {
     "data": {
      "image/png": "[encoded data removed]",
      "text/plain": [
       "<Figure size 640x480 with 1 Axes>"
      ]
     },
     "metadata": {},
     "output_type": "display_data"
    }
   ],
   "source": [
    "\n",
    "plt.hist(courses3, bins = range(100,600,100), align = 'left')\n",
    "plt.xticks(range(100,600,100))\n",
    "plt.title('Undergrad Topic 3 Course Numbers')\n",
    "plt.ylabel('Frequency')\n",
    "plt.xlabel('Course Numbers')\n",
    "plt.show()"
   ]
  },
  {
   "cell_type": "code",
   "execution_count": null,
   "metadata": {},
   "outputs": [],
   "source": []
  }
 ],
 "metadata": {
  "kernelspec": {
   "display_name": "Python 3",
   "language": "python",
   "name": "python3"
  },
  "language_info": {
   "codemirror_mode": {
    "name": "ipython",
    "version": 3
   },
   "file_extension": ".py",
   "mimetype": "text/x-python",
   "name": "python",
   "nbconvert_exporter": "python",
   "pygments_lexer": "ipython3",
   "version": "3.10.11"
  },
  "orig_nbformat": 4
 },
 "nbformat": 4,
 "nbformat_minor": 2
}
