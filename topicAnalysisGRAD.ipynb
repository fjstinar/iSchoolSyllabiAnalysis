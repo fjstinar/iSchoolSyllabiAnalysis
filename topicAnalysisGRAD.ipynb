{
 "cells": [
  {
   "cell_type": "code",
   "execution_count": 1,
   "metadata": {},
   "outputs": [],
   "source": [
    "import pandas as pd\n",
    "import ast"
   ]
  },
  {
   "cell_type": "code",
   "execution_count": 2,
   "metadata": {},
   "outputs": [],
   "source": [
    "df = pd.read_csv('pdfConvertwTopicsGRAD.csv', sep = '|')"
   ]
  },
  {
   "cell_type": "code",
   "execution_count": 3,
   "metadata": {},
   "outputs": [
    {
     "data": {
      "text/html": [
       "<div>\n",
       "<style scoped>\n",
       "    .dataframe tbody tr th:only-of-type {\n",
       "        vertical-align: middle;\n",
       "    }\n",
       "\n",
       "    .dataframe tbody tr th {\n",
       "        vertical-align: top;\n",
       "    }\n",
       "\n",
       "    .dataframe thead th {\n",
       "        text-align: right;\n",
       "    }\n",
       "</style>\n",
       "<table border=\"1\" class=\"dataframe\">\n",
       "  <thead>\n",
       "    <tr style=\"text-align: right;\">\n",
       "      <th></th>\n",
       "      <th>Unnamed: 0.1</th>\n",
       "      <th>Unnamed: 0</th>\n",
       "      <th>0</th>\n",
       "      <th>1</th>\n",
       "      <th>courseNumbers</th>\n",
       "      <th>topics</th>\n",
       "    </tr>\n",
       "  </thead>\n",
       "  <tbody>\n",
       "    <tr>\n",
       "      <th>0</th>\n",
       "      <td>1</td>\n",
       "      <td>1</td>\n",
       "      <td>IS 567 BC FA22 Text Mining (Blake, C).pdf</td>\n",
       "      <td>syllabus for is567 ac text mining fall 2022...</td>\n",
       "      <td>567</td>\n",
       "      <td>[(0, 0.43036819), (1, 0.32711214), (2, 0.24251...</td>\n",
       "    </tr>\n",
       "    <tr>\n",
       "      <th>1</th>\n",
       "      <td>2</td>\n",
       "      <td>2</td>\n",
       "      <td>IS 507 AC, BC FA22 Data, Stat, Info (Besser, S...</td>\n",
       "      <td>course  instructor information course and inst...</td>\n",
       "      <td>507</td>\n",
       "      <td>[(0, 0.6234863), (1, 0.12560283), (2, 0.250910...</td>\n",
       "    </tr>\n",
       "    <tr>\n",
       "      <th>2</th>\n",
       "      <td>3</td>\n",
       "      <td>3</td>\n",
       "      <td>IS 413 BO SP21 Teen Materials (Quealy, K).pdf</td>\n",
       "      <td>1 is 413ab sp1 teen materials spring 2021 mond...</td>\n",
       "      <td>413</td>\n",
       "      <td>[(0, 0.2760071), (1, 0.21522711), (2, 0.5087659)]</td>\n",
       "    </tr>\n",
       "    <tr>\n",
       "      <th>3</th>\n",
       "      <td>4</td>\n",
       "      <td>4</td>\n",
       "      <td>IS 584 PVO FA20 Privacy in the Internet Age (B...</td>\n",
       "      <td>privacy in the internet age lis 584 pvo fall 2...</td>\n",
       "      <td>584</td>\n",
       "      <td>[(0, 0.06494858), (1, 0.07237597), (2, 0.86267...</td>\n",
       "    </tr>\n",
       "    <tr>\n",
       "      <th>4</th>\n",
       "      <td>5</td>\n",
       "      <td>5</td>\n",
       "      <td>IS 458 AO FA19 Instruc Strat Tech Info Prof (W...</td>\n",
       "      <td>is458\\tinstructional\\tstrategies\\tand\\ttechniq...</td>\n",
       "      <td>458</td>\n",
       "      <td>[(0, 0.13391425), (1, 0.5451255), (2, 0.320960...</td>\n",
       "    </tr>\n",
       "    <tr>\n",
       "      <th>5</th>\n",
       "      <td>6</td>\n",
       "      <td>6</td>\n",
       "      <td>IS 401 ACG, ACU FA22 Introduction to Networked...</td>\n",
       "      <td>1      introduction to networked information...</td>\n",
       "      <td>401</td>\n",
       "      <td>[(0, 0.20768546), (1, 0.04044642), (2, 0.75186...</td>\n",
       "    </tr>\n",
       "    <tr>\n",
       "      <th>6</th>\n",
       "      <td>8</td>\n",
       "      <td>8</td>\n",
       "      <td>IS 445 AO SP20 Info Books &amp; Resources Youth (M...</td>\n",
       "      <td>is445 ao information books and resources for y...</td>\n",
       "      <td>445</td>\n",
       "      <td>[(0, 0.38658714), (1, 0.56142485), (2, 0.05198...</td>\n",
       "    </tr>\n",
       "    <tr>\n",
       "      <th>7</th>\n",
       "      <td>10</td>\n",
       "      <td>10</td>\n",
       "      <td>IS 467 AOU SP21 Ethics &amp; Policy for Data Scien...</td>\n",
       "      <td>syllabus for is 467 data ethics and policy  1 ...</td>\n",
       "      <td>467</td>\n",
       "      <td>[(0, 0.7510866), (1, 0.013267408), (2, 0.23564...</td>\n",
       "    </tr>\n",
       "    <tr>\n",
       "      <th>8</th>\n",
       "      <td>11</td>\n",
       "      <td>11</td>\n",
       "      <td>IS 577 AO SP20 Adv Bibliographic Metadata (Bot...</td>\n",
       "      <td>syllabus  advanced bibliographic metadata is57...</td>\n",
       "      <td>577</td>\n",
       "      <td>[(0, 0.28891408), (1, 0.3104176), (2, 0.400668...</td>\n",
       "    </tr>\n",
       "    <tr>\n",
       "      <th>9</th>\n",
       "      <td>12</td>\n",
       "      <td>12</td>\n",
       "      <td>IS 590 CBO SU20 Cataloging for School Libs (Sh...</td>\n",
       "      <td>is 590 cbo su20 cataloging for school libs sha...</td>\n",
       "      <td>590</td>\n",
       "      <td>[(0, 0.3855326), (1, 0.14702263), (2, 0.467444...</td>\n",
       "    </tr>\n",
       "  </tbody>\n",
       "</table>\n",
       "</div>"
      ],
      "text/plain": [
       "   Unnamed: 0.1  Unnamed: 0  \\\n",
       "0             1           1   \n",
       "1             2           2   \n",
       "2             3           3   \n",
       "3             4           4   \n",
       "4             5           5   \n",
       "5             6           6   \n",
       "6             8           8   \n",
       "7            10          10   \n",
       "8            11          11   \n",
       "9            12          12   \n",
       "\n",
       "                                                   0  \\\n",
       "0          IS 567 BC FA22 Text Mining (Blake, C).pdf   \n",
       "1  IS 507 AC, BC FA22 Data, Stat, Info (Besser, S...   \n",
       "2      IS 413 BO SP21 Teen Materials (Quealy, K).pdf   \n",
       "3  IS 584 PVO FA20 Privacy in the Internet Age (B...   \n",
       "4  IS 458 AO FA19 Instruc Strat Tech Info Prof (W...   \n",
       "5  IS 401 ACG, ACU FA22 Introduction to Networked...   \n",
       "6  IS 445 AO SP20 Info Books & Resources Youth (M...   \n",
       "7  IS 467 AOU SP21 Ethics & Policy for Data Scien...   \n",
       "8  IS 577 AO SP20 Adv Bibliographic Metadata (Bot...   \n",
       "9  IS 590 CBO SU20 Cataloging for School Libs (Sh...   \n",
       "\n",
       "                                                   1  courseNumbers  \\\n",
       "0     syllabus for is567 ac text mining fall 2022...            567   \n",
       "1  course  instructor information course and inst...            507   \n",
       "2  1 is 413ab sp1 teen materials spring 2021 mond...            413   \n",
       "3  privacy in the internet age lis 584 pvo fall 2...            584   \n",
       "4  is458\\tinstructional\\tstrategies\\tand\\ttechniq...            458   \n",
       "5    1      introduction to networked information...            401   \n",
       "6  is445 ao information books and resources for y...            445   \n",
       "7  syllabus for is 467 data ethics and policy  1 ...            467   \n",
       "8  syllabus  advanced bibliographic metadata is57...            577   \n",
       "9  is 590 cbo su20 cataloging for school libs sha...            590   \n",
       "\n",
       "                                              topics  \n",
       "0  [(0, 0.43036819), (1, 0.32711214), (2, 0.24251...  \n",
       "1  [(0, 0.6234863), (1, 0.12560283), (2, 0.250910...  \n",
       "2  [(0, 0.2760071), (1, 0.21522711), (2, 0.5087659)]  \n",
       "3  [(0, 0.06494858), (1, 0.07237597), (2, 0.86267...  \n",
       "4  [(0, 0.13391425), (1, 0.5451255), (2, 0.320960...  \n",
       "5  [(0, 0.20768546), (1, 0.04044642), (2, 0.75186...  \n",
       "6  [(0, 0.38658714), (1, 0.56142485), (2, 0.05198...  \n",
       "7  [(0, 0.7510866), (1, 0.013267408), (2, 0.23564...  \n",
       "8  [(0, 0.28891408), (1, 0.3104176), (2, 0.400668...  \n",
       "9  [(0, 0.3855326), (1, 0.14702263), (2, 0.467444...  "
      ]
     },
     "execution_count": 3,
     "metadata": {},
     "output_type": "execute_result"
    }
   ],
   "source": [
    "df.head(10)"
   ]
  },
  {
   "cell_type": "code",
   "execution_count": 4,
   "metadata": {},
   "outputs": [
    {
     "data": {
      "text/plain": [
       "0.6234863"
      ]
     },
     "execution_count": 4,
     "metadata": {},
     "output_type": "execute_result"
    }
   ],
   "source": [
    "list(ast.literal_eval(df['topics'][1]))[0][1]"
   ]
  },
  {
   "cell_type": "code",
   "execution_count": 5,
   "metadata": {},
   "outputs": [],
   "source": [
    "correctTopic = []\n",
    "for i in df['topics']:\n",
    "    tmp = list(ast.literal_eval(i))\n",
    "    maxVal = 0\n",
    "    cl = ''\n",
    "    for j in tmp:\n",
    "        if j[1] > maxVal:\n",
    "            cl = j[0]\n",
    "            maxVal = j[1]\n",
    "    correctTopic.append(cl)"
   ]
  },
  {
   "cell_type": "code",
   "execution_count": 6,
   "metadata": {},
   "outputs": [],
   "source": [
    "df['correctTopic'] = correctTopic"
   ]
  },
  {
   "cell_type": "code",
   "execution_count": 7,
   "metadata": {},
   "outputs": [
    {
     "data": {
      "text/html": [
       "<div>\n",
       "<style scoped>\n",
       "    .dataframe tbody tr th:only-of-type {\n",
       "        vertical-align: middle;\n",
       "    }\n",
       "\n",
       "    .dataframe tbody tr th {\n",
       "        vertical-align: top;\n",
       "    }\n",
       "\n",
       "    .dataframe thead th {\n",
       "        text-align: right;\n",
       "    }\n",
       "</style>\n",
       "<table border=\"1\" class=\"dataframe\">\n",
       "  <thead>\n",
       "    <tr style=\"text-align: right;\">\n",
       "      <th></th>\n",
       "      <th>Unnamed: 0.1</th>\n",
       "      <th>Unnamed: 0</th>\n",
       "      <th>0</th>\n",
       "      <th>1</th>\n",
       "      <th>courseNumbers</th>\n",
       "      <th>topics</th>\n",
       "      <th>correctTopic</th>\n",
       "    </tr>\n",
       "  </thead>\n",
       "  <tbody>\n",
       "    <tr>\n",
       "      <th>0</th>\n",
       "      <td>1</td>\n",
       "      <td>1</td>\n",
       "      <td>IS 567 BC FA22 Text Mining (Blake, C).pdf</td>\n",
       "      <td>syllabus for is567 ac text mining fall 2022...</td>\n",
       "      <td>567</td>\n",
       "      <td>[(0, 0.43036819), (1, 0.32711214), (2, 0.24251...</td>\n",
       "      <td>0</td>\n",
       "    </tr>\n",
       "    <tr>\n",
       "      <th>1</th>\n",
       "      <td>2</td>\n",
       "      <td>2</td>\n",
       "      <td>IS 507 AC, BC FA22 Data, Stat, Info (Besser, S...</td>\n",
       "      <td>course  instructor information course and inst...</td>\n",
       "      <td>507</td>\n",
       "      <td>[(0, 0.6234863), (1, 0.12560283), (2, 0.250910...</td>\n",
       "      <td>0</td>\n",
       "    </tr>\n",
       "    <tr>\n",
       "      <th>2</th>\n",
       "      <td>3</td>\n",
       "      <td>3</td>\n",
       "      <td>IS 413 BO SP21 Teen Materials (Quealy, K).pdf</td>\n",
       "      <td>1 is 413ab sp1 teen materials spring 2021 mond...</td>\n",
       "      <td>413</td>\n",
       "      <td>[(0, 0.2760071), (1, 0.21522711), (2, 0.5087659)]</td>\n",
       "      <td>2</td>\n",
       "    </tr>\n",
       "    <tr>\n",
       "      <th>3</th>\n",
       "      <td>4</td>\n",
       "      <td>4</td>\n",
       "      <td>IS 584 PVO FA20 Privacy in the Internet Age (B...</td>\n",
       "      <td>privacy in the internet age lis 584 pvo fall 2...</td>\n",
       "      <td>584</td>\n",
       "      <td>[(0, 0.06494858), (1, 0.07237597), (2, 0.86267...</td>\n",
       "      <td>2</td>\n",
       "    </tr>\n",
       "    <tr>\n",
       "      <th>4</th>\n",
       "      <td>5</td>\n",
       "      <td>5</td>\n",
       "      <td>IS 458 AO FA19 Instruc Strat Tech Info Prof (W...</td>\n",
       "      <td>is458\\tinstructional\\tstrategies\\tand\\ttechniq...</td>\n",
       "      <td>458</td>\n",
       "      <td>[(0, 0.13391425), (1, 0.5451255), (2, 0.320960...</td>\n",
       "      <td>1</td>\n",
       "    </tr>\n",
       "  </tbody>\n",
       "</table>\n",
       "</div>"
      ],
      "text/plain": [
       "   Unnamed: 0.1  Unnamed: 0  \\\n",
       "0             1           1   \n",
       "1             2           2   \n",
       "2             3           3   \n",
       "3             4           4   \n",
       "4             5           5   \n",
       "\n",
       "                                                   0  \\\n",
       "0          IS 567 BC FA22 Text Mining (Blake, C).pdf   \n",
       "1  IS 507 AC, BC FA22 Data, Stat, Info (Besser, S...   \n",
       "2      IS 413 BO SP21 Teen Materials (Quealy, K).pdf   \n",
       "3  IS 584 PVO FA20 Privacy in the Internet Age (B...   \n",
       "4  IS 458 AO FA19 Instruc Strat Tech Info Prof (W...   \n",
       "\n",
       "                                                   1  courseNumbers  \\\n",
       "0     syllabus for is567 ac text mining fall 2022...            567   \n",
       "1  course  instructor information course and inst...            507   \n",
       "2  1 is 413ab sp1 teen materials spring 2021 mond...            413   \n",
       "3  privacy in the internet age lis 584 pvo fall 2...            584   \n",
       "4  is458\\tinstructional\\tstrategies\\tand\\ttechniq...            458   \n",
       "\n",
       "                                              topics  correctTopic  \n",
       "0  [(0, 0.43036819), (1, 0.32711214), (2, 0.24251...             0  \n",
       "1  [(0, 0.6234863), (1, 0.12560283), (2, 0.250910...             0  \n",
       "2  [(0, 0.2760071), (1, 0.21522711), (2, 0.5087659)]             2  \n",
       "3  [(0, 0.06494858), (1, 0.07237597), (2, 0.86267...             2  \n",
       "4  [(0, 0.13391425), (1, 0.5451255), (2, 0.320960...             1  "
      ]
     },
     "execution_count": 7,
     "metadata": {},
     "output_type": "execute_result"
    }
   ],
   "source": [
    "df.head()"
   ]
  },
  {
   "cell_type": "code",
   "execution_count": 8,
   "metadata": {},
   "outputs": [],
   "source": [
    "df1 = df[df['correctTopic'] == 0]\n",
    "df2 = df[df['correctTopic'] == 1]\n",
    "df3 = df[df['correctTopic'] == 2]"
   ]
  },
  {
   "cell_type": "code",
   "execution_count": 9,
   "metadata": {},
   "outputs": [
    {
     "name": "stdout",
     "output_type": "stream",
     "text": [
      "222\n",
      "189\n",
      "255\n"
     ]
    }
   ],
   "source": [
    "print(len(df1))\n",
    "print(len(df2))\n",
    "print(len(df3))"
   ]
  },
  {
   "cell_type": "code",
   "execution_count": 14,
   "metadata": {},
   "outputs": [
    {
     "name": "stderr",
     "output_type": "stream",
     "text": [
      "[nltk_data] Downloading package punkt to\n",
      "[nltk_data]     C:\\Users\\fjsti\\AppData\\Roaming\\nltk_data...\n",
      "[nltk_data]   Package punkt is already up-to-date!\n",
      "[nltk_data] Downloading package stopwords to\n",
      "[nltk_data]     C:\\Users\\fjsti\\AppData\\Roaming\\nltk_data...\n",
      "[nltk_data]   Package stopwords is already up-to-date!\n"
     ]
    }
   ],
   "source": [
    "import re\n",
    "import nltk\n",
    "nltk.download('punkt')\n",
    "from nltk.tokenize import word_tokenize as wt \n",
    "nltk.download('stopwords')\n",
    "from nltk.corpus import stopwords\n",
    "from nltk.stem.porter import PorterStemmer\n",
    "stemmer = PorterStemmer()\n",
    "#spell correction\n",
    "#from autocorrect import spell\n",
    "data = []\n",
    "for i in range(df3.shape[0]):\n",
    "    sms = df3.iloc[i, 3]\n",
    "    # remove non alphabatic characters\n",
    "    sms = re.sub('[^A-Za-z]', ' ', sms)\n",
    "    # make words lowercase, because Go and go will be considered as two words\n",
    "    sms = sms.lower()\n",
    "    # tokenising\n",
    "    tokenized_sms = wt(sms)\n",
    "    # remove stop words and stemming\n",
    "    sw = stopwords.words('english')\n",
    "    sw.extend(['cid','student','cours','class','assign','inform','read','week','grade','univers','use','work','learn',\n",
    "'instructor','due','academi','requir','may','illinoi','complet','pleas','materi','ischool','respons','meet','lectur','final',\n",
    "'librari','academ','includ','resourc','contact','must'])\n",
    "    sms_processed = []\n",
    "    for word in tokenized_sms:\n",
    "        if word not in set(sw):\n",
    "            sms_processed.append((stemmer.stem(word)))\n",
    "    sms_text = \" \".join(sms_processed)\n",
    "    data.append(sms_text)"
   ]
  },
  {
   "cell_type": "code",
   "execution_count": 15,
   "metadata": {},
   "outputs": [
    {
     "data": {
      "image/png": "[encoded data removed]",
      "text/plain": [
       "<PIL.Image.Image image mode=RGB size=400x200>"
      ]
     },
     "execution_count": 15,
     "metadata": {},
     "output_type": "execute_result"
    }
   ],
   "source": [
    "from wordcloud import WordCloud\n",
    "\n",
    "long_string = ','.join(list(data))\n",
    "wordcloud = WordCloud(background_color=\"white\", max_words=5000, contour_width=3, contour_color='steelblue')\n",
    "wordcloud.generate(long_string)\n",
    "wordcloud.to_image()"
   ]
  },
  {
   "cell_type": "code",
   "execution_count": 16,
   "metadata": {},
   "outputs": [],
   "source": [
    "courseNumbers = []\n",
    "firstval = []\n",
    "for i in df['0']:\n",
    "    if i[0] == 'I' and i[1] == 'S':\n",
    "        courseNumbers.append(i[3:6])\n",
    "    elif i[0] == 'G':\n",
    "        courseNumbers.append(i[4:7])\n",
    "    elif i[0] == 'I' and i[1] == 'N':\n",
    "        courseNumbers.append(i[5:8])\n",
    "    elif i[0] == 'W':\n",
    "        courseNumbers.append(i[5:8])\n",
    "    firstval.append(i[0])"
   ]
  },
  {
   "cell_type": "code",
   "execution_count": 19,
   "metadata": {},
   "outputs": [],
   "source": [
    "courseNumbers.append('0')"
   ]
  },
  {
   "cell_type": "code",
   "execution_count": 20,
   "metadata": {},
   "outputs": [],
   "source": [
    "df['courseNumbers'] = courseNumbers"
   ]
  },
  {
   "cell_type": "code",
   "execution_count": 33,
   "metadata": {},
   "outputs": [
    {
     "data": {
      "text/html": [
       "<div>\n",
       "<style scoped>\n",
       "    .dataframe tbody tr th:only-of-type {\n",
       "        vertical-align: middle;\n",
       "    }\n",
       "\n",
       "    .dataframe tbody tr th {\n",
       "        vertical-align: top;\n",
       "    }\n",
       "\n",
       "    .dataframe thead th {\n",
       "        text-align: right;\n",
       "    }\n",
       "</style>\n",
       "<table border=\"1\" class=\"dataframe\">\n",
       "  <thead>\n",
       "    <tr style=\"text-align: right;\">\n",
       "      <th></th>\n",
       "      <th>Unnamed: 0.1</th>\n",
       "      <th>Unnamed: 0</th>\n",
       "      <th>0</th>\n",
       "      <th>1</th>\n",
       "      <th>courseNumbers</th>\n",
       "      <th>topics</th>\n",
       "      <th>correctTopic</th>\n",
       "    </tr>\n",
       "  </thead>\n",
       "  <tbody>\n",
       "    <tr>\n",
       "      <th>0</th>\n",
       "      <td>1</td>\n",
       "      <td>1</td>\n",
       "      <td>IS 567 BC FA22 Text Mining (Blake, C).pdf</td>\n",
       "      <td>syllabus for is567 ac text mining fall 2022...</td>\n",
       "      <td>567</td>\n",
       "      <td>[(0, 0.43036819), (1, 0.32711214), (2, 0.24251...</td>\n",
       "      <td>0</td>\n",
       "    </tr>\n",
       "    <tr>\n",
       "      <th>1</th>\n",
       "      <td>2</td>\n",
       "      <td>2</td>\n",
       "      <td>IS 507 AC, BC FA22 Data, Stat, Info (Besser, S...</td>\n",
       "      <td>course  instructor information course and inst...</td>\n",
       "      <td>507</td>\n",
       "      <td>[(0, 0.6234863), (1, 0.12560283), (2, 0.250910...</td>\n",
       "      <td>0</td>\n",
       "    </tr>\n",
       "    <tr>\n",
       "      <th>2</th>\n",
       "      <td>3</td>\n",
       "      <td>3</td>\n",
       "      <td>IS 413 BO SP21 Teen Materials (Quealy, K).pdf</td>\n",
       "      <td>1 is 413ab sp1 teen materials spring 2021 mond...</td>\n",
       "      <td>413</td>\n",
       "      <td>[(0, 0.2760071), (1, 0.21522711), (2, 0.5087659)]</td>\n",
       "      <td>2</td>\n",
       "    </tr>\n",
       "    <tr>\n",
       "      <th>3</th>\n",
       "      <td>4</td>\n",
       "      <td>4</td>\n",
       "      <td>IS 584 PVO FA20 Privacy in the Internet Age (B...</td>\n",
       "      <td>privacy in the internet age lis 584 pvo fall 2...</td>\n",
       "      <td>584</td>\n",
       "      <td>[(0, 0.06494858), (1, 0.07237597), (2, 0.86267...</td>\n",
       "      <td>2</td>\n",
       "    </tr>\n",
       "    <tr>\n",
       "      <th>4</th>\n",
       "      <td>5</td>\n",
       "      <td>5</td>\n",
       "      <td>IS 458 AO FA19 Instruc Strat Tech Info Prof (W...</td>\n",
       "      <td>is458\\tinstructional\\tstrategies\\tand\\ttechniq...</td>\n",
       "      <td>458</td>\n",
       "      <td>[(0, 0.13391425), (1, 0.5451255), (2, 0.320960...</td>\n",
       "      <td>1</td>\n",
       "    </tr>\n",
       "  </tbody>\n",
       "</table>\n",
       "</div>"
      ],
      "text/plain": [
       "   Unnamed: 0.1  Unnamed: 0  \\\n",
       "0             1           1   \n",
       "1             2           2   \n",
       "2             3           3   \n",
       "3             4           4   \n",
       "4             5           5   \n",
       "\n",
       "                                                   0  \\\n",
       "0          IS 567 BC FA22 Text Mining (Blake, C).pdf   \n",
       "1  IS 507 AC, BC FA22 Data, Stat, Info (Besser, S...   \n",
       "2      IS 413 BO SP21 Teen Materials (Quealy, K).pdf   \n",
       "3  IS 584 PVO FA20 Privacy in the Internet Age (B...   \n",
       "4  IS 458 AO FA19 Instruc Strat Tech Info Prof (W...   \n",
       "\n",
       "                                                   1 courseNumbers  \\\n",
       "0     syllabus for is567 ac text mining fall 2022...           567   \n",
       "1  course  instructor information course and inst...           507   \n",
       "2  1 is 413ab sp1 teen materials spring 2021 mond...           413   \n",
       "3  privacy in the internet age lis 584 pvo fall 2...           584   \n",
       "4  is458\\tinstructional\\tstrategies\\tand\\ttechniq...           458   \n",
       "\n",
       "                                              topics  correctTopic  \n",
       "0  [(0, 0.43036819), (1, 0.32711214), (2, 0.24251...             0  \n",
       "1  [(0, 0.6234863), (1, 0.12560283), (2, 0.250910...             0  \n",
       "2  [(0, 0.2760071), (1, 0.21522711), (2, 0.5087659)]             2  \n",
       "3  [(0, 0.06494858), (1, 0.07237597), (2, 0.86267...             2  \n",
       "4  [(0, 0.13391425), (1, 0.5451255), (2, 0.320960...             1  "
      ]
     },
     "execution_count": 33,
     "metadata": {},
     "output_type": "execute_result"
    }
   ],
   "source": [
    "df.head()"
   ]
  },
  {
   "cell_type": "code",
   "execution_count": 21,
   "metadata": {},
   "outputs": [],
   "source": [
    "df1 = df[df['correctTopic'] == 0]\n",
    "df2 = df[df['correctTopic'] == 1]\n",
    "df3 = df[df['correctTopic'] == 2]"
   ]
  },
  {
   "cell_type": "code",
   "execution_count": 22,
   "metadata": {},
   "outputs": [],
   "source": [
    "import matplotlib.pyplot as plt\n",
    "import math"
   ]
  },
  {
   "cell_type": "code",
   "execution_count": 98,
   "metadata": {},
   "outputs": [],
   "source": [
    "#def roundDown(x):\n",
    "#    return int(math.floor(x / 100.0)) * 100"
   ]
  },
  {
   "cell_type": "code",
   "execution_count": 34,
   "metadata": {},
   "outputs": [],
   "source": [
    "courses1 = df1['courseNumbers'].to_numpy()\n",
    "courses2 = df2['courseNumbers'].to_numpy()\n",
    "courses3 = df3['courseNumbers'].to_numpy()"
   ]
  },
  {
   "cell_type": "code",
   "execution_count": 54,
   "metadata": {},
   "outputs": [],
   "source": [
    "for i in range(len(courses1)):\n",
    "    if int(courses1[i]) > 400:\n",
    "        courses1[i] = int(courses1[i])\n",
    "    else:\n",
    "        courses1[i] = 400"
   ]
  },
  {
   "cell_type": "code",
   "execution_count": 57,
   "metadata": {},
   "outputs": [
    {
     "data": {
      "text/plain": [
       "array([567, 507, 467, 571, 419, 545, 501, 471, 510, 423, 467, 581, 567,\n",
       "       419, 591, 544, 529, 507, 461, 502, 597, 420, 517, 407, 510, 563,\n",
       "       590, 424, 504, 542, 467, 590, 537, 587, 590, 429, 544, 571, 413,\n",
       "       518, 590, 590, 571, 510, 515, 594, 581, 409, 581, 582, 477, 407,\n",
       "       490, 505, 501, 591, 563, 532, 410, 530, 571, 529, 503, 400, 583,\n",
       "       590, 502, 578, 560, 400, 532, 400, 455, 517, 515, 571, 567, 400,\n",
       "       418, 581, 582, 430, 506, 439, 400, 462, 551, 588, 591, 501, 559,\n",
       "       504, 503, 471, 419, 544, 571, 578, 590, 571, 501, 592, 560, 585,\n",
       "       519, 595, 551, 430, 596, 510, 446, 400, 490, 507, 590, 507, 400,\n",
       "       582, 400, 501, 503, 453, 400, 573, 545, 534, 585, 542, 400, 516,\n",
       "       400, 597, 573, 579, 586, 453, 537, 581, 582, 501, 571, 555, 508,\n",
       "       400, 400, 501, 542, 585, 573, 543, 530, 400, 530, 467, 510, 505,\n",
       "       594, 519, 400, 583, 400, 527, 523, 504, 501, 543, 540, 400, 539,\n",
       "       584, 591, 430, 501, 457, 582, 530, 581, 510, 418, 451, 583, 452,\n",
       "       582, 400, 451, 578, 515, 510, 455, 563, 568, 582, 590, 549, 457,\n",
       "       400, 400, 501, 586, 452, 504, 457, 505, 594, 594, 542, 571, 530,\n",
       "       407, 583, 467, 573, 562, 515, 590, 561, 584, 595, 406, 430, 430,\n",
       "       595], dtype=object)"
      ]
     },
     "execution_count": 57,
     "metadata": {},
     "output_type": "execute_result"
    }
   ],
   "source": [
    "courses1"
   ]
  },
  {
   "cell_type": "code",
   "execution_count": 40,
   "metadata": {},
   "outputs": [],
   "source": [
    "import numpy as np"
   ]
  },
  {
   "cell_type": "code",
   "execution_count": 58,
   "metadata": {},
   "outputs": [
    {
     "data": {
      "image/png": "[encoded data removed]",
      "text/plain": [
       "<Figure size 640x480 with 1 Axes>"
      ]
     },
     "metadata": {},
     "output_type": "display_data"
    }
   ],
   "source": [
    "\n",
    "plt.hist(courses1, bins = 2, align = 'left')\n",
    "plt.xticks([400,500])\n",
    "plt.title('Grad Topic 1 Course Numbers')\n",
    "plt.ylabel('Frequency')\n",
    "plt.xlabel('Course Numbers')\n",
    "plt.show()"
   ]
  },
  {
   "cell_type": "code",
   "execution_count": null,
   "metadata": {},
   "outputs": [],
   "source": []
  }
 ],
 "metadata": {
  "kernelspec": {
   "display_name": "Python 3",
   "language": "python",
   "name": "python3"
  },
  "language_info": {
   "codemirror_mode": {
    "name": "ipython",
    "version": 3
   },
   "file_extension": ".py",
   "mimetype": "text/x-python",
   "name": "python",
   "nbconvert_exporter": "python",
   "pygments_lexer": "ipython3",
   "version": "3.10.11"
  },
  "orig_nbformat": 4
 },
 "nbformat": 4,
 "nbformat_minor": 2
}
