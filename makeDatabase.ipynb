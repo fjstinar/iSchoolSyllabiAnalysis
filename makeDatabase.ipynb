{
 "cells": [
  {
   "cell_type": "code",
   "execution_count": 1,
   "metadata": {},
   "outputs": [],
   "source": [
    "import pdfplumber\n",
    "import string\n",
    "import os\n",
    "import pandas as pd\n",
    "#nltk.download()"
   ]
  },
  {
   "cell_type": "code",
   "execution_count": 2,
   "metadata": {},
   "outputs": [
    {
     "data": {
      "text/plain": [
       "8"
      ]
     },
     "execution_count": 2,
     "metadata": {},
     "output_type": "execute_result"
    }
   ],
   "source": [
    "\n",
    "my_pdf = pdfplumber.open(\"IS 503 AO AO1 FA20-History of Children's Lit (Hoiem, E).pdf\")\n",
    "first_page = my_pdf.pages[0]\n",
    "len(my_pdf.pages)\n",
    "#print(first_page.chars[0])"
   ]
  },
  {
   "cell_type": "code",
   "execution_count": 3,
   "metadata": {
    "scrolled": true
   },
   "outputs": [],
   "source": [
    "im = my_pdf.pages[0].to_image(resolution=150)"
   ]
  },
  {
   "cell_type": "code",
   "execution_count": 4,
   "metadata": {},
   "outputs": [],
   "source": [
    "#txt0 = my_pdf.pages[0].extract_text_simple(x_tolerance=3, y_tolerance=3)"
   ]
  },
  {
   "cell_type": "code",
   "execution_count": 5,
   "metadata": {},
   "outputs": [],
   "source": [
    "#txt0_clean = \"\".join([i.lower() for i in txt0 if i not in string.punctuation])"
   ]
  },
  {
   "cell_type": "code",
   "execution_count": 6,
   "metadata": {
    "scrolled": true
   },
   "outputs": [],
   "source": [
    "pdfs = os.listdir('/Users/frank/Phd/is597/proj/Consolidated Collection (Fall 2019-Current)')"
   ]
  },
  {
   "cell_type": "code",
   "execution_count": 14,
   "metadata": {},
   "outputs": [],
   "source": [
    "pdfTextMat = []\n",
    "for pdf in pdfs:\n",
    "    path = '/Users/frank/Phd/is597/proj/Consolidated Collection (Fall 2019-Current)/' + pdf\n",
    "    curr_pdf = pdfplumber.open(path)\n",
    "    text = ''\n",
    "    for page in curr_pdf.pages:\n",
    "        page = page.extract_text_simple(x_tolerance = 3, y_tolerance = 3)\n",
    "        page = \"\".join([i.lower() for i in page if i not in string.punctuation])\n",
    "        page = \"\".join([i.lower() for i in page if i != '\\n'])\n",
    "        text += page\n",
    "    pdfTextMat.append([pdf, text])"
   ]
  },
  {
   "cell_type": "code",
   "execution_count": 15,
   "metadata": {},
   "outputs": [],
   "source": [
    "pdfDf = pd.DataFrame(pdfTextMat)"
   ]
  },
  {
   "cell_type": "code",
   "execution_count": 16,
   "metadata": {},
   "outputs": [],
   "source": [
    "pdfDf.to_csv('pdfConvertFULL.csv', escapechar='\\\\', sep = '|')"
   ]
  }
 ],
 "metadata": {
  "kernelspec": {
   "display_name": "Python 3 (ipykernel)",
   "language": "python",
   "name": "python3"
  },
  "language_info": {
   "codemirror_mode": {
    "name": "ipython",
    "version": 3
   },
   "file_extension": ".py",
   "mimetype": "text/x-python",
   "name": "python",
   "nbconvert_exporter": "python",
   "pygments_lexer": "ipython3",
   "version": "3.10.9"
  }
 },
 "nbformat": 4,
 "nbformat_minor": 4
}
